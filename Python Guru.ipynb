{
 "cells": [
  {
   "cell_type": "code",
   "execution_count": 4,
   "id": "8bc1a58e-fbdc-4fdd-b538-fed86c79657c",
   "metadata": {},
   "outputs": [
    {
     "name": "stdout",
     "output_type": "stream",
     "text": [
      "Chinazaekpere!\n"
     ]
    }
   ],
   "source": [
    "print (\"Chinazaekpere!\")"
   ]
  },
  {
   "cell_type": "code",
   "execution_count": 5,
   "id": "8001a5e2-1c21-4190-aea9-e0b7dc77abcf",
   "metadata": {},
   "outputs": [
    {
     "name": "stdout",
     "output_type": "stream",
     "text": [
      "<class 'int'>\n"
     ]
    }
   ],
   "source": [
    "print (type (1+2))"
   ]
  },
  {
   "cell_type": "code",
   "execution_count": null,
   "id": "466391b1-e65b-4292-861f-bf6005df952e",
   "metadata": {},
   "outputs": [],
   "source": []
  }
 ],
 "metadata": {
  "kernelspec": {
   "display_name": "Python 3 (ipykernel)",
   "language": "python",
   "name": "python3"
  },
  "language_info": {
   "codemirror_mode": {
    "name": "ipython",
    "version": 3
   },
   "file_extension": ".py",
   "mimetype": "text/x-python",
   "name": "python",
   "nbconvert_exporter": "python",
   "pygments_lexer": "ipython3",
   "version": "3.12.7"
  }
 },
 "nbformat": 4,
 "nbformat_minor": 5
}
