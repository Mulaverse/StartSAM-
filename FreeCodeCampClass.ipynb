{
 "cells": [
  {
   "cell_type": "code",
   "execution_count": 5,
   "id": "00ab85b9-c36e-4b9d-b166-c96955c1859b",
   "metadata": {},
   "outputs": [
    {
     "name": "stdout",
     "output_type": "stream",
     "text": [
      "<class 'float'>\n"
     ]
    }
   ],
   "source": [
    "print(type(2.3 + 1))"
   ]
  },
  {
   "cell_type": "code",
   "execution_count": 6,
   "id": "40a2e96e-b0ce-451a-8b90-cecae91f674c",
   "metadata": {},
   "outputs": [
    {
     "name": "stdout",
     "output_type": "stream",
     "text": [
      "<class 'int'>\n"
     ]
    }
   ],
   "source": [
    "print(type(2+1))"
   ]
  },
  {
   "cell_type": "code",
   "execution_count": 8,
   "id": "205516b2-ce0e-48f4-bf07-b4ad99942488",
   "metadata": {},
   "outputs": [],
   "source": [
    "x       "
   ]
  },
  {
   "cell_type": "code",
   "execution_count": 9,
   "id": "39da71e3-a18b-4a40-be61-0894b1d6ca9e",
   "metadata": {},
   "outputs": [
    {
     "name": "stdout",
     "output_type": "stream",
     "text": [
      "Variable   Type    Data/Info\n",
      "----------------------------\n",
      "x          int     2\n"
     ]
    }
   ],
   "source": [
    "%whos "
   ]
  },
  {
   "cell_type": "code",
   "execution_count": 10,
   "id": "ff37c5d0-115e-4edd-bbfe-37f9a96c7f11",
   "metadata": {},
   "outputs": [
    {
     "name": "stdout",
     "output_type": "stream",
     "text": [
      "<class 'int'>\n"
     ]
    }
   ],
   "source": [
    "print(type(x))"
   ]
  },
  {
   "cell_type": "code",
   "execution_count": 11,
   "id": "5bb5889b-ec62-4e31-b5c4-7c4a74d1856f",
   "metadata": {},
   "outputs": [],
   "source": [
    "x = 2.3"
   ]
  },
  {
   "cell_type": "code",
   "execution_count": 12,
   "id": "8d87bfdc-a2c1-4684-936c-9f964662d6d5",
   "metadata": {},
   "outputs": [
    {
     "name": "stdout",
     "output_type": "stream",
     "text": [
      "Variable   Type     Data/Info\n",
      "-----------------------------\n",
      "x          float    2.3\n"
     ]
    }
   ],
   "source": [
    "%whos"
   ]
  },
  {
   "cell_type": "code",
   "execution_count": 14,
   "id": "e8d75fdb-6a4d-43e9-b897-2fb78e5389e3",
   "metadata": {},
   "outputs": [
    {
     "name": "stdout",
     "output_type": "stream",
     "text": [
      "<class 'float'>\n"
     ]
    }
   ],
   "source": [
    "print(type(x))"
   ]
  },
  {
   "cell_type": "code",
   "execution_count": 15,
   "id": "fe4fffab-de0a-4f2d-ab3e-9318fb36b5a5",
   "metadata": {},
   "outputs": [],
   "source": [
    "a,b,c,d,e = 2,6.1,8.1,2,5"
   ]
  },
  {
   "cell_type": "code",
   "execution_count": 16,
   "id": "3e70763c-e6ec-405f-b29d-974d79dbcf04",
   "metadata": {},
   "outputs": [
    {
     "name": "stdout",
     "output_type": "stream",
     "text": [
      "Variable   Type     Data/Info\n",
      "-----------------------------\n",
      "a          int      2\n",
      "b          float    6.1\n",
      "c          float    8.1\n",
      "d          int      2\n",
      "e          int      5\n",
      "x          float    2.3\n"
     ]
    }
   ],
   "source": [
    "%whos"
   ]
  },
  {
   "cell_type": "code",
   "execution_count": 20,
   "id": "9f015e52-5c7f-4ab5-80c0-b39c7b340368",
   "metadata": {},
   "outputs": [],
   "source": [
    "sam = 7 + 3j"
   ]
  },
  {
   "cell_type": "code",
   "execution_count": 21,
   "id": "96a19b88-172c-4e34-9d79-610000e4f503",
   "metadata": {},
   "outputs": [
    {
     "name": "stdout",
     "output_type": "stream",
     "text": [
      "<class 'complex'>\n"
     ]
    }
   ],
   "source": [
    "print (type(sam))"
   ]
  },
  {
   "cell_type": "code",
   "execution_count": 22,
   "id": "57be469b-dccb-4bd6-94d5-8276112723b1",
   "metadata": {},
   "outputs": [],
   "source": [
    "s = \"Chinazaekpere\""
   ]
  },
  {
   "cell_type": "code",
   "execution_count": 23,
   "id": "22fab6bc-1bbd-4ceb-a7f6-f11020da4329",
   "metadata": {},
   "outputs": [
    {
     "name": "stdout",
     "output_type": "stream",
     "text": [
      "<class 'str'>\n"
     ]
    }
   ],
   "source": [
    "print (type(s))"
   ]
  },
  {
   "cell_type": "code",
   "execution_count": 24,
   "id": "1c05357b-8636-405f-acef-7cc399f39c3d",
   "metadata": {},
   "outputs": [
    {
     "name": "stdout",
     "output_type": "stream",
     "text": [
      "Variable   Type       Data/Info\n",
      "-------------------------------\n",
      "a          int        2\n",
      "b          float      6.1\n",
      "c          float      8.1\n",
      "d          int        2\n",
      "e          int        5\n",
      "s          str        Chinazaekpere\n",
      "sam        complex    (7+3j)\n",
      "x          float      2.3\n"
     ]
    }
   ],
   "source": [
    "%whos"
   ]
  },
  {
   "cell_type": "code",
   "execution_count": 1,
   "id": "e4ea2a39-90d8-4e03-86a4-4de6091b31b8",
   "metadata": {},
   "outputs": [
    {
     "name": "stdout",
     "output_type": "stream",
     "text": [
      "<class 'float'>\n"
     ]
    }
   ],
   "source": [
    "print(type(2.1 + 1))"
   ]
  },
  {
   "cell_type": "code",
   "execution_count": 2,
   "id": "c5833b2b-159e-4d8e-9d25-9ef5c7eb9c71",
   "metadata": {},
   "outputs": [],
   "source": [
    "s1= \"hello i'm Sam!\""
   ]
  },
  {
   "cell_type": "code",
   "execution_count": 3,
   "id": "7eb2a8b7-6a52-499c-a8bd-30c5eb17887e",
   "metadata": {},
   "outputs": [],
   "source": [
    "s2= \"wbu?\""
   ]
  },
  {
   "cell_type": "code",
   "execution_count": 6,
   "id": "793dda1c-349d-4356-aad2-f40b4e83948c",
   "metadata": {},
   "outputs": [
    {
     "name": "stdout",
     "output_type": "stream",
     "text": [
      "hello i'm Sam!wbu?\n"
     ]
    }
   ],
   "source": [
    "print(s1 +  s2)"
   ]
  },
  {
   "cell_type": "code",
   "execution_count": 1,
   "id": "2a474226-9ee6-43bb-b7ab-b504978f94cc",
   "metadata": {},
   "outputs": [
    {
     "name": "stdout",
     "output_type": "stream",
     "text": [
      "Interactive namespace is empty.\n"
     ]
    }
   ],
   "source": [
    "%whos"
   ]
  },
  {
   "cell_type": "code",
   "execution_count": 3,
   "id": "57ec46e3-4a47-443e-a4c9-39597a84c383",
   "metadata": {},
   "outputs": [
    {
     "data": {
      "text/plain": [
       "2187"
      ]
     },
     "execution_count": 3,
     "metadata": {},
     "output_type": "execute_result"
    }
   ],
   "source": [
    "pow(3,7)"
   ]
  },
  {
   "cell_type": "code",
   "execution_count": null,
   "id": "68fa17f6-0f1b-4c1e-9701-9d9d8496fd18",
   "metadata": {},
   "outputs": [],
   "source": [
    "x = input(\"Enter a number :\")"
   ]
  },
  {
   "cell_type": "code",
   "execution_count": null,
   "id": "1400fad3-e372-4ade-b118-c5fb7872a76b",
   "metadata": {},
   "outputs": [],
   "source": []
  }
 ],
 "metadata": {
  "kernelspec": {
   "display_name": "Python 3 (ipykernel)",
   "language": "python",
   "name": "python3"
  },
  "language_info": {
   "codemirror_mode": {
    "name": "ipython",
    "version": 3
   },
   "file_extension": ".py",
   "mimetype": "text/x-python",
   "name": "python",
   "nbconvert_exporter": "python",
   "pygments_lexer": "ipython3",
   "version": "3.12.7"
  }
 },
 "nbformat": 4,
 "nbformat_minor": 5
}
